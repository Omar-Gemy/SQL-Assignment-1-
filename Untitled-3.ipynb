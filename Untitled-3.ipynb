{
 "cells": [
  {
   "cell_type": "markdown",
   "metadata": {},
   "source": [
    "first assignment in SQL with VScode"
   ]
  },
  {
   "cell_type": "markdown",
   "metadata": {},
   "source": [
    "sql 1st assignment"
   ]
  },
  {
   "cell_type": "code",
   "execution_count": 2,
   "metadata": {},
   "outputs": [],
   "source": [
    "import sqlite3"
   ]
  },
  {
   "cell_type": "code",
   "execution_count": 3,
   "metadata": {},
   "outputs": [
    {
     "ename": "IntegrityError",
     "evalue": "UNIQUE constraint failed: departments.id",
     "output_type": "error",
     "traceback": [
      "\u001b[1;31m---------------------------------------------------------------------------\u001b[0m",
      "\u001b[1;31mIntegrityError\u001b[0m                            Traceback (most recent call last)",
      "Cell \u001b[1;32mIn[3], line 9\u001b[0m\n\u001b[0;32m      2\u001b[0m cursor \u001b[38;5;241m=\u001b[39m conn\u001b[38;5;241m.\u001b[39mcursor()\n\u001b[0;32m      3\u001b[0m cursor\u001b[38;5;241m.\u001b[39mexecute(\u001b[38;5;124m'''\u001b[39m\n\u001b[0;32m      4\u001b[0m \u001b[38;5;124m    CREATE TABLE IF NOT EXISTS departments (\u001b[39m\n\u001b[0;32m      5\u001b[0m \u001b[38;5;124m        id INTEGER PRIMARY KEY,\u001b[39m\n\u001b[0;32m      6\u001b[0m \u001b[38;5;124m        dname TEXT NOT NULL\u001b[39m\n\u001b[0;32m      7\u001b[0m \u001b[38;5;124m    )\u001b[39m\n\u001b[0;32m      8\u001b[0m \u001b[38;5;124m'''\u001b[39m)\n\u001b[1;32m----> 9\u001b[0m \u001b[43mcursor\u001b[49m\u001b[38;5;241;43m.\u001b[39;49m\u001b[43mexecutemany\u001b[49m\u001b[43m(\u001b[49m\u001b[38;5;124;43m'''\u001b[39;49m\n\u001b[0;32m     10\u001b[0m \u001b[38;5;124;43m    INSERT INTO departments (id, dname)\u001b[39;49m\n\u001b[0;32m     11\u001b[0m \u001b[38;5;124;43m    VALUES (?, ?)\u001b[39;49m\n\u001b[0;32m     12\u001b[0m \u001b[38;5;124;43m'''\u001b[39;49m\u001b[43m,\u001b[49m\u001b[43m \u001b[49m\u001b[43m[\u001b[49m\n\u001b[0;32m     13\u001b[0m \u001b[43m    \u001b[49m\u001b[43m(\u001b[49m\u001b[38;5;241;43m1\u001b[39;49m\u001b[43m,\u001b[49m\u001b[43m \u001b[49m\u001b[38;5;124;43m'\u001b[39;49m\u001b[38;5;124;43mHR\u001b[39;49m\u001b[38;5;124;43m'\u001b[39;49m\u001b[43m)\u001b[49m\u001b[43m,\u001b[49m\n\u001b[0;32m     14\u001b[0m \u001b[43m    \u001b[49m\u001b[43m(\u001b[49m\u001b[38;5;241;43m2\u001b[39;49m\u001b[43m,\u001b[49m\u001b[43m \u001b[49m\u001b[38;5;124;43m'\u001b[39;49m\u001b[38;5;124;43mEngineering\u001b[39;49m\u001b[38;5;124;43m'\u001b[39;49m\u001b[43m)\u001b[49m\u001b[43m,\u001b[49m\n\u001b[0;32m     15\u001b[0m \u001b[43m    \u001b[49m\u001b[43m(\u001b[49m\u001b[38;5;241;43m3\u001b[39;49m\u001b[43m,\u001b[49m\u001b[43m \u001b[49m\u001b[38;5;124;43m'\u001b[39;49m\u001b[38;5;124;43mMarketing\u001b[39;49m\u001b[38;5;124;43m'\u001b[39;49m\u001b[43m)\u001b[49m\n\u001b[0;32m     16\u001b[0m \u001b[43m]\u001b[49m\u001b[43m)\u001b[49m\n\u001b[0;32m     17\u001b[0m cursor\u001b[38;5;241m.\u001b[39mexecute(\u001b[38;5;124m'''\u001b[39m\n\u001b[0;32m     18\u001b[0m \u001b[38;5;124m    CREATE TABLE IF NOT EXISTS employees (\u001b[39m\n\u001b[0;32m     19\u001b[0m \u001b[38;5;124m        id INTEGER PRIMARY KEY,\u001b[39m\n\u001b[1;32m   (...)\u001b[0m\n\u001b[0;32m     24\u001b[0m \u001b[38;5;124m    )\u001b[39m\n\u001b[0;32m     25\u001b[0m \u001b[38;5;124m'''\u001b[39m)\n\u001b[0;32m     26\u001b[0m cursor\u001b[38;5;241m.\u001b[39mexecutemany(\u001b[38;5;124m'''\u001b[39m\n\u001b[0;32m     27\u001b[0m \u001b[38;5;124m    INSERT INTO employees (id, fname, lname, dept_id)\u001b[39m\n\u001b[0;32m     28\u001b[0m \u001b[38;5;124m    VALUES (?, ?, ?, ?)\u001b[39m\n\u001b[1;32m   (...)\u001b[0m\n\u001b[0;32m     32\u001b[0m     (\u001b[38;5;241m3\u001b[39m, \u001b[38;5;124m'\u001b[39m\u001b[38;5;124mBob\u001b[39m\u001b[38;5;124m'\u001b[39m, \u001b[38;5;124m'\u001b[39m\u001b[38;5;124mJohnson\u001b[39m\u001b[38;5;124m'\u001b[39m, \u001b[38;5;241m3\u001b[39m)\n\u001b[0;32m     33\u001b[0m ])\n",
      "\u001b[1;31mIntegrityError\u001b[0m: UNIQUE constraint failed: departments.id"
     ]
    }
   ],
   "source": [
    "conn = sqlite3.connect('database.db')\n",
    "cursor = conn.cursor()\n",
    "cursor.execute('''\n",
    "    CREATE TABLE IF NOT EXISTS departments (\n",
    "        id INTEGER PRIMARY KEY,\n",
    "        dname TEXT NOT NULL\n",
    "    )\n",
    "''')\n",
    "cursor.executemany('''\n",
    "    INSERT INTO departments (id, dname)\n",
    "    VALUES (?, ?)\n",
    "''', [\n",
    "    (1, 'HR'),\n",
    "    (2, 'Engineering'),\n",
    "    (3, 'Marketing')\n",
    "])\n",
    "cursor.execute('''\n",
    "    CREATE TABLE IF NOT EXISTS employees (\n",
    "        id INTEGER PRIMARY KEY,\n",
    "        fname TEXT NOT NULL,\n",
    "        lname TEXT NOT NULL,\n",
    "        dept_id INTEGER,\n",
    "        FOREIGN KEY (dept_id) REFERENCES departments(id)\n",
    "    )\n",
    "''')\n",
    "cursor.executemany('''\n",
    "    INSERT INTO employees (id, fname, lname, dept_id)\n",
    "    VALUES (?, ?, ?, ?)\n",
    "''', [\n",
    "    (1, 'John', 'Doe', 1),\n",
    "    (2, 'Alice', 'Smith', 2),\n",
    "    (3, 'Bob', 'Johnson', 3)\n",
    "])\n",
    "cursor.execute('''\n",
    "    CREATE VIEW IF NOT EXISTS vw_employee_details AS\n",
    "    SELECT \n",
    "        e.fname AS FirstName,\n",
    "        e.lname AS LastName,\n",
    "        d.dname AS DepartmentName\n",
    "    FROM \n",
    "        employees e\n",
    "    JOIN \n",
    "        departments d\n",
    "    ON \n",
    "        e.dept_id = d.id\n",
    "''')\n",
    "cursor.execute('SELECT * FROM vw_employee_details')\n",
    "rows = cursor.fetchall()\n",
    "\n",
    "print(\"View vw_employee_details:\")\n",
    "for row in rows:\n",
    "    print(row)\n",
    "conn.commit()\n",
    "conn.close()\n"
   ]
  },
  {
   "cell_type": "code",
   "execution_count": 5,
   "metadata": {},
   "outputs": [
    {
     "name": "stdout",
     "output_type": "stream",
     "text": [
      "An error occurred: near \"OR\": syntax error\n"
     ]
    }
   ],
   "source": [
    "import sqlite3\n",
    "conn = sqlite3.connect('your_database.db')\n",
    "cursor = conn.cursor()\n",
    "create_view_query = \"\"\"\n",
    "CREATE OR REPLACE VIEW vw_work_hrs AS\n",
    "SELECT \n",
    "    fname, \n",
    "    lname, \n",
    "    pname, \n",
    "    hours\n",
    "FROM \n",
    "    employees\n",
    "WHERE \n",
    "    department_number = 5;\n",
    "\"\"\"\n",
    "\n",
    "try:\n",
    "    cursor.execute(create_view_query)\n",
    "    print(\"View vw_work_hrs has been updated successfully.\")\n",
    "except sqlite3.Error as e:\n",
    "    print(f\"An error occurred: {e}\")\n",
    "conn.commit()\n",
    "conn.close()\n"
   ]
  },
  {
   "cell_type": "code",
   "execution_count": null,
   "metadata": {},
   "outputs": [
    {
     "name": "stdout",
     "output_type": "stream",
     "text": [
      "(2, 'Supplier B', 20)\n",
      "(3, 'Supplier C', 30)\n",
      "(5, 'Supplier E', 25)\n"
     ]
    }
   ],
   "source": [
    "conn = sqlite3.connect(':memory:')\n",
    "cursor = conn.cursor()\n",
    "cursor.execute('''\n",
    "CREATE TABLE suppliers (\n",
    "    id INTEGER PRIMARY KEY,\n",
    "    name TEXT,\n",
    "    status INTEGER\n",
    ");\n",
    "''')\n",
    "\n",
    "cursor.executemany('''\n",
    "INSERT INTO suppliers (name, status) VALUES (?, ?);\n",
    "''', [\n",
    "    ('Supplier A', 10),\n",
    "    ('Supplier B', 20),\n",
    "    ('Supplier C', 30),\n",
    "    ('Supplier D', 5)\n",
    "])\n",
    "\n",
    "cursor.execute('''\n",
    "CREATE VIEW vw_high_status_suppliers AS\n",
    "SELECT * \n",
    "FROM suppliers\n",
    "WHERE status > 15;\n",
    "''')\n",
    "cursor.execute('''\n",
    "INSERT INTO suppliers (name, status)\n",
    "VALUES ('Supplier E', 25);\n",
    "''')\n",
    "conn.commit()\n",
    "cursor.execute('SELECT * FROM vw_high_status_suppliers;')\n",
    "rows = cursor.fetchall()\n",
    "for row in rows:\n",
    "    print(row)\n",
    "conn.close()\n",
    "\n"
   ]
  },
  {
   "cell_type": "code",
   "execution_count": null,
   "metadata": {},
   "outputs": [],
   "source": []
  }
 ],
 "metadata": {
  "kernelspec": {
   "display_name": "Python 3",
   "language": "python",
   "name": "python3"
  },
  "language_info": {
   "codemirror_mode": {
    "name": "ipython",
    "version": 3
   },
   "file_extension": ".py",
   "mimetype": "text/x-python",
   "name": "python",
   "nbconvert_exporter": "python",
   "pygments_lexer": "ipython3",
   "version": "3.13.0"
  }
 },
 "nbformat": 4,
 "nbformat_minor": 2
}
